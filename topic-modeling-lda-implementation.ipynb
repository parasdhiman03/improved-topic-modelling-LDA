{
 "cells": [
  {
   "cell_type": "code",
   "execution_count": 1,
   "id": "99c0c2cd",
   "metadata": {
    "_cell_guid": "b1076dfc-b9ad-4769-8c92-a6c4dae69d19",
    "_uuid": "8f2839f25d086af736a60e9eeb907d3b93b6e0e5",
    "papermill": {
     "duration": 0.035129,
     "end_time": "2022-10-02T09:43:40.403023",
     "exception": false,
     "start_time": "2022-10-02T09:43:40.367894",
     "status": "completed"
    },
    "tags": []
   },
   "outputs": [],
   "source": [
    "# This Python 3 environment comes with many helpful analytics libraries installed\n",
    "# It is defined by the kaggle/python Docker image: https://github.com/kaggle/docker-python\n",
    "# For example, here's several helpful packages to load\n",
    "\n",
    "import numpy as np # linear algebra\n",
    "import pandas as pd # data processing, CSV file I/O (e.g. pd.read_csv)\n",
    "\n",
    "# Input data files are available in the read-only \"../input/\" directory\n",
    "# For example, running this (by clicking run or pressing Shift+Enter) will list all files under the input directory\n",
    "\n",
    "import os\n",
    "for dirname, _, filenames in os.walk('/kaggle/input'):\n",
    "    for filename in filenames:\n",
    "        print(os.path.join(dirname, filename))\n",
    "\n",
    "# You can write up to 20GB to the current directory (/kaggle/working/) that gets preserved as output when you create a version using \"Save & Run All\" \n",
    "# You can also write temporary files to /kaggle/temp/, but they won't be saved outside of the current session"
   ]
  },
  {
   "cell_type": "markdown",
   "id": "992f5518",
   "metadata": {
    "papermill": {
     "duration": 0.007178,
     "end_time": "2022-10-02T09:43:40.417815",
     "exception": false,
     "start_time": "2022-10-02T09:43:40.410637",
     "status": "completed"
    },
    "tags": []
   },
   "source": [
    "### Importing Required Libraries"
   ]
  },
  {
   "cell_type": "code",
   "execution_count": 2,
   "id": "bb7595fa",
   "metadata": {
    "papermill": {
     "duration": 2.018467,
     "end_time": "2022-10-02T09:43:42.444280",
     "exception": false,
     "start_time": "2022-10-02T09:43:40.425813",
     "status": "completed"
    },
    "tags": []
   },
   "outputs": [],
   "source": [
    "from nltk.corpus import stopwords \n",
    "import re \n",
    "import gensim\n",
    "from gensim.utils import simple_preprocess\n",
    "from gensim.models import LdaMulticore\n",
    "import gensim.corpora as corpora\n",
    "from pprint import pprint\n",
    "import pyLDAvis.gensim\n",
    "import pickle \n",
    "import pyLDAvis"
   ]
  },
  {
   "cell_type": "code",
   "execution_count": 3,
   "id": "48fb3521",
   "metadata": {
    "papermill": {
     "duration": 4.379112,
     "end_time": "2022-10-02T09:43:46.831834",
     "exception": false,
     "start_time": "2022-10-02T09:43:42.452722",
     "status": "completed"
    },
    "tags": []
   },
   "outputs": [
    {
     "ename": "FileNotFoundError",
     "evalue": "[Errno 2] No such file or directory: '/kaggle/input/nips-papers/papers.csv'",
     "output_type": "error",
     "traceback": [
      "\u001b[1;31m---------------------------------------------------------------------------\u001b[0m",
      "\u001b[1;31mFileNotFoundError\u001b[0m                         Traceback (most recent call last)",
      "Cell \u001b[1;32mIn[3], line 1\u001b[0m\n\u001b[1;32m----> 1\u001b[0m data \u001b[38;5;241m=\u001b[39m \u001b[43mpd\u001b[49m\u001b[38;5;241;43m.\u001b[39;49m\u001b[43mread_csv\u001b[49m\u001b[43m(\u001b[49m\u001b[38;5;124;43m\"\u001b[39;49m\u001b[38;5;124;43m/kaggle/input/nips-papers/papers.csv\u001b[39;49m\u001b[38;5;124;43m\"\u001b[39;49m\u001b[43m)\u001b[49m\n",
      "File \u001b[1;32m~\\AppData\\Local\\Programs\\Python\\Python310\\lib\\site-packages\\pandas\\util\\_decorators.py:211\u001b[0m, in \u001b[0;36mdeprecate_kwarg.<locals>._deprecate_kwarg.<locals>.wrapper\u001b[1;34m(*args, **kwargs)\u001b[0m\n\u001b[0;32m    209\u001b[0m     \u001b[38;5;28;01melse\u001b[39;00m:\n\u001b[0;32m    210\u001b[0m         kwargs[new_arg_name] \u001b[38;5;241m=\u001b[39m new_arg_value\n\u001b[1;32m--> 211\u001b[0m \u001b[38;5;28;01mreturn\u001b[39;00m func(\u001b[38;5;241m*\u001b[39margs, \u001b[38;5;241m*\u001b[39m\u001b[38;5;241m*\u001b[39mkwargs)\n",
      "File \u001b[1;32m~\\AppData\\Local\\Programs\\Python\\Python310\\lib\\site-packages\\pandas\\util\\_decorators.py:331\u001b[0m, in \u001b[0;36mdeprecate_nonkeyword_arguments.<locals>.decorate.<locals>.wrapper\u001b[1;34m(*args, **kwargs)\u001b[0m\n\u001b[0;32m    325\u001b[0m \u001b[38;5;28;01mif\u001b[39;00m \u001b[38;5;28mlen\u001b[39m(args) \u001b[38;5;241m>\u001b[39m num_allow_args:\n\u001b[0;32m    326\u001b[0m     warnings\u001b[38;5;241m.\u001b[39mwarn(\n\u001b[0;32m    327\u001b[0m         msg\u001b[38;5;241m.\u001b[39mformat(arguments\u001b[38;5;241m=\u001b[39m_format_argument_list(allow_args)),\n\u001b[0;32m    328\u001b[0m         \u001b[38;5;167;01mFutureWarning\u001b[39;00m,\n\u001b[0;32m    329\u001b[0m         stacklevel\u001b[38;5;241m=\u001b[39mfind_stack_level(),\n\u001b[0;32m    330\u001b[0m     )\n\u001b[1;32m--> 331\u001b[0m \u001b[38;5;28;01mreturn\u001b[39;00m func(\u001b[38;5;241m*\u001b[39margs, \u001b[38;5;241m*\u001b[39m\u001b[38;5;241m*\u001b[39mkwargs)\n",
      "File \u001b[1;32m~\\AppData\\Local\\Programs\\Python\\Python310\\lib\\site-packages\\pandas\\io\\parsers\\readers.py:950\u001b[0m, in \u001b[0;36mread_csv\u001b[1;34m(filepath_or_buffer, sep, delimiter, header, names, index_col, usecols, squeeze, prefix, mangle_dupe_cols, dtype, engine, converters, true_values, false_values, skipinitialspace, skiprows, skipfooter, nrows, na_values, keep_default_na, na_filter, verbose, skip_blank_lines, parse_dates, infer_datetime_format, keep_date_col, date_parser, dayfirst, cache_dates, iterator, chunksize, compression, thousands, decimal, lineterminator, quotechar, quoting, doublequote, escapechar, comment, encoding, encoding_errors, dialect, error_bad_lines, warn_bad_lines, on_bad_lines, delim_whitespace, low_memory, memory_map, float_precision, storage_options)\u001b[0m\n\u001b[0;32m    935\u001b[0m kwds_defaults \u001b[38;5;241m=\u001b[39m _refine_defaults_read(\n\u001b[0;32m    936\u001b[0m     dialect,\n\u001b[0;32m    937\u001b[0m     delimiter,\n\u001b[1;32m   (...)\u001b[0m\n\u001b[0;32m    946\u001b[0m     defaults\u001b[38;5;241m=\u001b[39m{\u001b[38;5;124m\"\u001b[39m\u001b[38;5;124mdelimiter\u001b[39m\u001b[38;5;124m\"\u001b[39m: \u001b[38;5;124m\"\u001b[39m\u001b[38;5;124m,\u001b[39m\u001b[38;5;124m\"\u001b[39m},\n\u001b[0;32m    947\u001b[0m )\n\u001b[0;32m    948\u001b[0m kwds\u001b[38;5;241m.\u001b[39mupdate(kwds_defaults)\n\u001b[1;32m--> 950\u001b[0m \u001b[38;5;28;01mreturn\u001b[39;00m \u001b[43m_read\u001b[49m\u001b[43m(\u001b[49m\u001b[43mfilepath_or_buffer\u001b[49m\u001b[43m,\u001b[49m\u001b[43m \u001b[49m\u001b[43mkwds\u001b[49m\u001b[43m)\u001b[49m\n",
      "File \u001b[1;32m~\\AppData\\Local\\Programs\\Python\\Python310\\lib\\site-packages\\pandas\\io\\parsers\\readers.py:605\u001b[0m, in \u001b[0;36m_read\u001b[1;34m(filepath_or_buffer, kwds)\u001b[0m\n\u001b[0;32m    602\u001b[0m _validate_names(kwds\u001b[38;5;241m.\u001b[39mget(\u001b[38;5;124m\"\u001b[39m\u001b[38;5;124mnames\u001b[39m\u001b[38;5;124m\"\u001b[39m, \u001b[38;5;28;01mNone\u001b[39;00m))\n\u001b[0;32m    604\u001b[0m \u001b[38;5;66;03m# Create the parser.\u001b[39;00m\n\u001b[1;32m--> 605\u001b[0m parser \u001b[38;5;241m=\u001b[39m TextFileReader(filepath_or_buffer, \u001b[38;5;241m*\u001b[39m\u001b[38;5;241m*\u001b[39mkwds)\n\u001b[0;32m    607\u001b[0m \u001b[38;5;28;01mif\u001b[39;00m chunksize \u001b[38;5;129;01mor\u001b[39;00m iterator:\n\u001b[0;32m    608\u001b[0m     \u001b[38;5;28;01mreturn\u001b[39;00m parser\n",
      "File \u001b[1;32m~\\AppData\\Local\\Programs\\Python\\Python310\\lib\\site-packages\\pandas\\io\\parsers\\readers.py:1442\u001b[0m, in \u001b[0;36mTextFileReader.__init__\u001b[1;34m(self, f, engine, **kwds)\u001b[0m\n\u001b[0;32m   1439\u001b[0m     \u001b[38;5;28mself\u001b[39m\u001b[38;5;241m.\u001b[39moptions[\u001b[38;5;124m\"\u001b[39m\u001b[38;5;124mhas_index_names\u001b[39m\u001b[38;5;124m\"\u001b[39m] \u001b[38;5;241m=\u001b[39m kwds[\u001b[38;5;124m\"\u001b[39m\u001b[38;5;124mhas_index_names\u001b[39m\u001b[38;5;124m\"\u001b[39m]\n\u001b[0;32m   1441\u001b[0m \u001b[38;5;28mself\u001b[39m\u001b[38;5;241m.\u001b[39mhandles: IOHandles \u001b[38;5;241m|\u001b[39m \u001b[38;5;28;01mNone\u001b[39;00m \u001b[38;5;241m=\u001b[39m \u001b[38;5;28;01mNone\u001b[39;00m\n\u001b[1;32m-> 1442\u001b[0m \u001b[38;5;28mself\u001b[39m\u001b[38;5;241m.\u001b[39m_engine \u001b[38;5;241m=\u001b[39m \u001b[38;5;28;43mself\u001b[39;49m\u001b[38;5;241;43m.\u001b[39;49m\u001b[43m_make_engine\u001b[49m\u001b[43m(\u001b[49m\u001b[43mf\u001b[49m\u001b[43m,\u001b[49m\u001b[43m \u001b[49m\u001b[38;5;28;43mself\u001b[39;49m\u001b[38;5;241;43m.\u001b[39;49m\u001b[43mengine\u001b[49m\u001b[43m)\u001b[49m\n",
      "File \u001b[1;32m~\\AppData\\Local\\Programs\\Python\\Python310\\lib\\site-packages\\pandas\\io\\parsers\\readers.py:1735\u001b[0m, in \u001b[0;36mTextFileReader._make_engine\u001b[1;34m(self, f, engine)\u001b[0m\n\u001b[0;32m   1733\u001b[0m     \u001b[38;5;28;01mif\u001b[39;00m \u001b[38;5;124m\"\u001b[39m\u001b[38;5;124mb\u001b[39m\u001b[38;5;124m\"\u001b[39m \u001b[38;5;129;01mnot\u001b[39;00m \u001b[38;5;129;01min\u001b[39;00m mode:\n\u001b[0;32m   1734\u001b[0m         mode \u001b[38;5;241m+\u001b[39m\u001b[38;5;241m=\u001b[39m \u001b[38;5;124m\"\u001b[39m\u001b[38;5;124mb\u001b[39m\u001b[38;5;124m\"\u001b[39m\n\u001b[1;32m-> 1735\u001b[0m \u001b[38;5;28mself\u001b[39m\u001b[38;5;241m.\u001b[39mhandles \u001b[38;5;241m=\u001b[39m \u001b[43mget_handle\u001b[49m\u001b[43m(\u001b[49m\n\u001b[0;32m   1736\u001b[0m \u001b[43m    \u001b[49m\u001b[43mf\u001b[49m\u001b[43m,\u001b[49m\n\u001b[0;32m   1737\u001b[0m \u001b[43m    \u001b[49m\u001b[43mmode\u001b[49m\u001b[43m,\u001b[49m\n\u001b[0;32m   1738\u001b[0m \u001b[43m    \u001b[49m\u001b[43mencoding\u001b[49m\u001b[38;5;241;43m=\u001b[39;49m\u001b[38;5;28;43mself\u001b[39;49m\u001b[38;5;241;43m.\u001b[39;49m\u001b[43moptions\u001b[49m\u001b[38;5;241;43m.\u001b[39;49m\u001b[43mget\u001b[49m\u001b[43m(\u001b[49m\u001b[38;5;124;43m\"\u001b[39;49m\u001b[38;5;124;43mencoding\u001b[39;49m\u001b[38;5;124;43m\"\u001b[39;49m\u001b[43m,\u001b[49m\u001b[43m \u001b[49m\u001b[38;5;28;43;01mNone\u001b[39;49;00m\u001b[43m)\u001b[49m\u001b[43m,\u001b[49m\n\u001b[0;32m   1739\u001b[0m \u001b[43m    \u001b[49m\u001b[43mcompression\u001b[49m\u001b[38;5;241;43m=\u001b[39;49m\u001b[38;5;28;43mself\u001b[39;49m\u001b[38;5;241;43m.\u001b[39;49m\u001b[43moptions\u001b[49m\u001b[38;5;241;43m.\u001b[39;49m\u001b[43mget\u001b[49m\u001b[43m(\u001b[49m\u001b[38;5;124;43m\"\u001b[39;49m\u001b[38;5;124;43mcompression\u001b[39;49m\u001b[38;5;124;43m\"\u001b[39;49m\u001b[43m,\u001b[49m\u001b[43m \u001b[49m\u001b[38;5;28;43;01mNone\u001b[39;49;00m\u001b[43m)\u001b[49m\u001b[43m,\u001b[49m\n\u001b[0;32m   1740\u001b[0m \u001b[43m    \u001b[49m\u001b[43mmemory_map\u001b[49m\u001b[38;5;241;43m=\u001b[39;49m\u001b[38;5;28;43mself\u001b[39;49m\u001b[38;5;241;43m.\u001b[39;49m\u001b[43moptions\u001b[49m\u001b[38;5;241;43m.\u001b[39;49m\u001b[43mget\u001b[49m\u001b[43m(\u001b[49m\u001b[38;5;124;43m\"\u001b[39;49m\u001b[38;5;124;43mmemory_map\u001b[39;49m\u001b[38;5;124;43m\"\u001b[39;49m\u001b[43m,\u001b[49m\u001b[43m \u001b[49m\u001b[38;5;28;43;01mFalse\u001b[39;49;00m\u001b[43m)\u001b[49m\u001b[43m,\u001b[49m\n\u001b[0;32m   1741\u001b[0m \u001b[43m    \u001b[49m\u001b[43mis_text\u001b[49m\u001b[38;5;241;43m=\u001b[39;49m\u001b[43mis_text\u001b[49m\u001b[43m,\u001b[49m\n\u001b[0;32m   1742\u001b[0m \u001b[43m    \u001b[49m\u001b[43merrors\u001b[49m\u001b[38;5;241;43m=\u001b[39;49m\u001b[38;5;28;43mself\u001b[39;49m\u001b[38;5;241;43m.\u001b[39;49m\u001b[43moptions\u001b[49m\u001b[38;5;241;43m.\u001b[39;49m\u001b[43mget\u001b[49m\u001b[43m(\u001b[49m\u001b[38;5;124;43m\"\u001b[39;49m\u001b[38;5;124;43mencoding_errors\u001b[39;49m\u001b[38;5;124;43m\"\u001b[39;49m\u001b[43m,\u001b[49m\u001b[43m \u001b[49m\u001b[38;5;124;43m\"\u001b[39;49m\u001b[38;5;124;43mstrict\u001b[39;49m\u001b[38;5;124;43m\"\u001b[39;49m\u001b[43m)\u001b[49m\u001b[43m,\u001b[49m\n\u001b[0;32m   1743\u001b[0m \u001b[43m    \u001b[49m\u001b[43mstorage_options\u001b[49m\u001b[38;5;241;43m=\u001b[39;49m\u001b[38;5;28;43mself\u001b[39;49m\u001b[38;5;241;43m.\u001b[39;49m\u001b[43moptions\u001b[49m\u001b[38;5;241;43m.\u001b[39;49m\u001b[43mget\u001b[49m\u001b[43m(\u001b[49m\u001b[38;5;124;43m\"\u001b[39;49m\u001b[38;5;124;43mstorage_options\u001b[39;49m\u001b[38;5;124;43m\"\u001b[39;49m\u001b[43m,\u001b[49m\u001b[43m \u001b[49m\u001b[38;5;28;43;01mNone\u001b[39;49;00m\u001b[43m)\u001b[49m\u001b[43m,\u001b[49m\n\u001b[0;32m   1744\u001b[0m \u001b[43m\u001b[49m\u001b[43m)\u001b[49m\n\u001b[0;32m   1745\u001b[0m \u001b[38;5;28;01massert\u001b[39;00m \u001b[38;5;28mself\u001b[39m\u001b[38;5;241m.\u001b[39mhandles \u001b[38;5;129;01mis\u001b[39;00m \u001b[38;5;129;01mnot\u001b[39;00m \u001b[38;5;28;01mNone\u001b[39;00m\n\u001b[0;32m   1746\u001b[0m f \u001b[38;5;241m=\u001b[39m \u001b[38;5;28mself\u001b[39m\u001b[38;5;241m.\u001b[39mhandles\u001b[38;5;241m.\u001b[39mhandle\n",
      "File \u001b[1;32m~\\AppData\\Local\\Programs\\Python\\Python310\\lib\\site-packages\\pandas\\io\\common.py:856\u001b[0m, in \u001b[0;36mget_handle\u001b[1;34m(path_or_buf, mode, encoding, compression, memory_map, is_text, errors, storage_options)\u001b[0m\n\u001b[0;32m    851\u001b[0m \u001b[38;5;28;01melif\u001b[39;00m \u001b[38;5;28misinstance\u001b[39m(handle, \u001b[38;5;28mstr\u001b[39m):\n\u001b[0;32m    852\u001b[0m     \u001b[38;5;66;03m# Check whether the filename is to be opened in binary mode.\u001b[39;00m\n\u001b[0;32m    853\u001b[0m     \u001b[38;5;66;03m# Binary mode does not support 'encoding' and 'newline'.\u001b[39;00m\n\u001b[0;32m    854\u001b[0m     \u001b[38;5;28;01mif\u001b[39;00m ioargs\u001b[38;5;241m.\u001b[39mencoding \u001b[38;5;129;01mand\u001b[39;00m \u001b[38;5;124m\"\u001b[39m\u001b[38;5;124mb\u001b[39m\u001b[38;5;124m\"\u001b[39m \u001b[38;5;129;01mnot\u001b[39;00m \u001b[38;5;129;01min\u001b[39;00m ioargs\u001b[38;5;241m.\u001b[39mmode:\n\u001b[0;32m    855\u001b[0m         \u001b[38;5;66;03m# Encoding\u001b[39;00m\n\u001b[1;32m--> 856\u001b[0m         handle \u001b[38;5;241m=\u001b[39m \u001b[38;5;28;43mopen\u001b[39;49m\u001b[43m(\u001b[49m\n\u001b[0;32m    857\u001b[0m \u001b[43m            \u001b[49m\u001b[43mhandle\u001b[49m\u001b[43m,\u001b[49m\n\u001b[0;32m    858\u001b[0m \u001b[43m            \u001b[49m\u001b[43mioargs\u001b[49m\u001b[38;5;241;43m.\u001b[39;49m\u001b[43mmode\u001b[49m\u001b[43m,\u001b[49m\n\u001b[0;32m    859\u001b[0m \u001b[43m            \u001b[49m\u001b[43mencoding\u001b[49m\u001b[38;5;241;43m=\u001b[39;49m\u001b[43mioargs\u001b[49m\u001b[38;5;241;43m.\u001b[39;49m\u001b[43mencoding\u001b[49m\u001b[43m,\u001b[49m\n\u001b[0;32m    860\u001b[0m \u001b[43m            \u001b[49m\u001b[43merrors\u001b[49m\u001b[38;5;241;43m=\u001b[39;49m\u001b[43merrors\u001b[49m\u001b[43m,\u001b[49m\n\u001b[0;32m    861\u001b[0m \u001b[43m            \u001b[49m\u001b[43mnewline\u001b[49m\u001b[38;5;241;43m=\u001b[39;49m\u001b[38;5;124;43m\"\u001b[39;49m\u001b[38;5;124;43m\"\u001b[39;49m\u001b[43m,\u001b[49m\n\u001b[0;32m    862\u001b[0m \u001b[43m        \u001b[49m\u001b[43m)\u001b[49m\n\u001b[0;32m    863\u001b[0m     \u001b[38;5;28;01melse\u001b[39;00m:\n\u001b[0;32m    864\u001b[0m         \u001b[38;5;66;03m# Binary mode\u001b[39;00m\n\u001b[0;32m    865\u001b[0m         handle \u001b[38;5;241m=\u001b[39m \u001b[38;5;28mopen\u001b[39m(handle, ioargs\u001b[38;5;241m.\u001b[39mmode)\n",
      "\u001b[1;31mFileNotFoundError\u001b[0m: [Errno 2] No such file or directory: '/kaggle/input/nips-papers/papers.csv'"
     ]
    }
   ],
   "source": [
    "data = pd.read_csv(\"/kaggle/input/nips-papers/papers.csv\")"
   ]
  },
  {
   "cell_type": "code",
   "execution_count": null,
   "id": "e719df0e",
   "metadata": {
    "papermill": {
     "duration": 0.03277,
     "end_time": "2022-10-02T09:43:46.872271",
     "exception": false,
     "start_time": "2022-10-02T09:43:46.839501",
     "status": "completed"
    },
    "tags": []
   },
   "outputs": [],
   "source": [
    "data.head()"
   ]
  },
  {
   "cell_type": "code",
   "execution_count": null,
   "id": "62e7c68f",
   "metadata": {
    "papermill": {
     "duration": 0.030085,
     "end_time": "2022-10-02T09:43:46.911310",
     "exception": false,
     "start_time": "2022-10-02T09:43:46.881225",
     "status": "completed"
    },
    "tags": []
   },
   "outputs": [],
   "source": [
    "data = data.drop(columns=['id',\"event_type\",\"pdf_name\"],axis=1).sample(100)\n",
    "data.head()"
   ]
  },
  {
   "cell_type": "markdown",
   "id": "c5ef89aa",
   "metadata": {
    "papermill": {
     "duration": 0.007658,
     "end_time": "2022-10-02T09:43:46.926891",
     "exception": false,
     "start_time": "2022-10-02T09:43:46.919233",
     "status": "completed"
    },
    "tags": []
   },
   "source": [
    "### Data Cleaning"
   ]
  },
  {
   "cell_type": "code",
   "execution_count": null,
   "id": "661a7f8e",
   "metadata": {
    "papermill": {
     "duration": 0.017825,
     "end_time": "2022-10-02T09:43:46.952677",
     "exception": false,
     "start_time": "2022-10-02T09:43:46.934852",
     "status": "completed"
    },
    "tags": []
   },
   "outputs": [],
   "source": [
    "def clean(text):\n",
    "    text = text.lower()\n",
    "    text = re.sub(\"[^\\w\\d]\",\" \",text)\n",
    "    return text"
   ]
  },
  {
   "cell_type": "code",
   "execution_count": null,
   "id": "f4dd87e7",
   "metadata": {
    "papermill": {
     "duration": 0.157556,
     "end_time": "2022-10-02T09:43:47.118567",
     "exception": false,
     "start_time": "2022-10-02T09:43:46.961011",
     "status": "completed"
    },
    "tags": []
   },
   "outputs": [],
   "source": [
    "data['cleaned'] = data['paper_text'].apply(clean)"
   ]
  },
  {
   "cell_type": "code",
   "execution_count": null,
   "id": "7844f1b2",
   "metadata": {
    "papermill": {
     "duration": 0.028012,
     "end_time": "2022-10-02T09:43:47.155080",
     "exception": false,
     "start_time": "2022-10-02T09:43:47.127068",
     "status": "completed"
    },
    "tags": []
   },
   "outputs": [],
   "source": [
    "data[[\"paper_text\",\"cleaned\"]].head()"
   ]
  },
  {
   "cell_type": "markdown",
   "id": "f4b52c00",
   "metadata": {
    "papermill": {
     "duration": 0.007932,
     "end_time": "2022-10-02T09:43:47.171598",
     "exception": false,
     "start_time": "2022-10-02T09:43:47.163666",
     "status": "completed"
    },
    "tags": []
   },
   "source": [
    "### After cleaning has done , Topic modeling requires preparing data according to algorithm like in deep learning we process data according to keras or torch"
   ]
  },
  {
   "cell_type": "code",
   "execution_count": null,
   "id": "69e7a9d1",
   "metadata": {
    "papermill": {
     "duration": 0.025166,
     "end_time": "2022-10-02T09:43:47.204978",
     "exception": false,
     "start_time": "2022-10-02T09:43:47.179812",
     "status": "completed"
    },
    "tags": []
   },
   "outputs": [],
   "source": [
    "STOPWORDS = stopwords.words('english')\n",
    "STOPWORDS.extend(['from','subject','re','edu','use'])"
   ]
  },
  {
   "cell_type": "code",
   "execution_count": null,
   "id": "8056f6c8",
   "metadata": {
    "papermill": {
     "duration": 0.016977,
     "end_time": "2022-10-02T09:43:47.230111",
     "exception": false,
     "start_time": "2022-10-02T09:43:47.213134",
     "status": "completed"
    },
    "tags": []
   },
   "outputs": [],
   "source": [
    "\n",
    "def sent_to_words(text):\n",
    "    for sent in text:\n",
    "        yield(gensim.utils.simple_preprocess(str(sent),deacc=True)) # Deacc remove punctuations !"
   ]
  },
  {
   "cell_type": "markdown",
   "id": "9a5c63c9",
   "metadata": {
    "papermill": {
     "duration": 0.007982,
     "end_time": "2022-10-02T09:43:47.246901",
     "exception": false,
     "start_time": "2022-10-02T09:43:47.238919",
     "status": "completed"
    },
    "tags": []
   },
   "source": [
    "#### what does simple_preprocess do ?\n",
    "#### => it converts text to token that cannot be process further \n",
    "#### Link to gensim Simple Preprocess : https://tedboy.github.io/nlps/generated/generated/gensim.utils.simple_preprocess.html"
   ]
  },
  {
   "cell_type": "code",
   "execution_count": null,
   "id": "c4a865d7",
   "metadata": {
    "papermill": {
     "duration": 0.016966,
     "end_time": "2022-10-02T09:43:47.272207",
     "exception": false,
     "start_time": "2022-10-02T09:43:47.255241",
     "status": "completed"
    },
    "tags": []
   },
   "outputs": [],
   "source": [
    "new_text  = sent_to_words([\"when nothing is going right go left\",\n",
    "                           \"My Stomach is FLAT. The L is just Silent\",\n",
    "                           \"I am not Lazy , I am just on Energy Saving mode\"])"
   ]
  },
  {
   "cell_type": "code",
   "execution_count": null,
   "id": "d8b489fb",
   "metadata": {
    "papermill": {
     "duration": 0.02141,
     "end_time": "2022-10-02T09:43:47.301845",
     "exception": false,
     "start_time": "2022-10-02T09:43:47.280435",
     "status": "completed"
    },
    "tags": []
   },
   "outputs": [],
   "source": [
    "list(new_text)"
   ]
  },
  {
   "cell_type": "code",
   "execution_count": null,
   "id": "de8c5eae",
   "metadata": {
    "papermill": {
     "duration": 0.019198,
     "end_time": "2022-10-02T09:43:47.329590",
     "exception": false,
     "start_time": "2022-10-02T09:43:47.310392",
     "status": "completed"
    },
    "tags": []
   },
   "outputs": [],
   "source": [
    "\n",
    "\n",
    "def remove_stopwords(texts):\n",
    "    return [[word for word in simple_preprocess(str(doc)) if word not in STOPWORDS] for doc in texts]"
   ]
  },
  {
   "cell_type": "code",
   "execution_count": null,
   "id": "3ebd18d5",
   "metadata": {
    "papermill": {
     "duration": 2.520265,
     "end_time": "2022-10-02T09:43:49.858285",
     "exception": false,
     "start_time": "2022-10-02T09:43:47.338020",
     "status": "completed"
    },
    "tags": []
   },
   "outputs": [],
   "source": [
    "text = data['cleaned'].values.tolist()\n",
    "data_words = sent_to_words(list(text))\n",
    "data_words = remove_stopwords(data_words)"
   ]
  },
  {
   "cell_type": "code",
   "execution_count": null,
   "id": "ab55d39a",
   "metadata": {
    "papermill": {
     "duration": 0.028966,
     "end_time": "2022-10-02T09:43:49.897534",
     "exception": false,
     "start_time": "2022-10-02T09:43:49.868568",
     "status": "completed"
    },
    "tags": []
   },
   "outputs": [],
   "source": [
    "data_words[:1][0][:5]"
   ]
  },
  {
   "cell_type": "code",
   "execution_count": null,
   "id": "1f4de44d",
   "metadata": {
    "papermill": {
     "duration": 0.022632,
     "end_time": "2022-10-02T09:43:49.929114",
     "exception": false,
     "start_time": "2022-10-02T09:43:49.906482",
     "status": "completed"
    },
    "tags": []
   },
   "outputs": [],
   "source": [
    "len(data_words)"
   ]
  },
  {
   "cell_type": "code",
   "execution_count": null,
   "id": "9b5132ec",
   "metadata": {
    "papermill": {
     "duration": 0.021532,
     "end_time": "2022-10-02T09:43:49.959923",
     "exception": false,
     "start_time": "2022-10-02T09:43:49.938391",
     "status": "completed"
    },
    "tags": []
   },
   "outputs": [],
   "source": [
    "len(data_words[0])"
   ]
  },
  {
   "cell_type": "markdown",
   "id": "3e3a786e",
   "metadata": {
    "papermill": {
     "duration": 0.008821,
     "end_time": "2022-10-02T09:43:49.977878",
     "exception": false,
     "start_time": "2022-10-02T09:43:49.969057",
     "status": "completed"
    },
    "tags": []
   },
   "source": [
    "### Now after setting it according to Algorithm , we will create a corpus to be fit on algorithm"
   ]
  },
  {
   "cell_type": "code",
   "execution_count": 4,
   "id": "94b8c9d0",
   "metadata": {
    "papermill": {
     "duration": 0.386002,
     "end_time": "2022-10-02T09:43:50.372686",
     "exception": false,
     "start_time": "2022-10-02T09:43:49.986684",
     "status": "completed"
    },
    "tags": []
   },
   "outputs": [
    {
     "ename": "NameError",
     "evalue": "name 'data_words' is not defined",
     "output_type": "error",
     "traceback": [
      "\u001b[1;31m---------------------------------------------------------------------------\u001b[0m",
      "\u001b[1;31mNameError\u001b[0m                                 Traceback (most recent call last)",
      "Cell \u001b[1;32mIn[4], line 2\u001b[0m\n\u001b[0;32m      1\u001b[0m \u001b[38;5;66;03m# Create Dictionary \u001b[39;00m\n\u001b[1;32m----> 2\u001b[0m id2word \u001b[38;5;241m=\u001b[39m corpora\u001b[38;5;241m.\u001b[39mDictionary(\u001b[43mdata_words\u001b[49m)\n\u001b[0;32m      4\u001b[0m \u001b[38;5;66;03m# Create Corpus , a copy or you can say \u001b[39;00m\n\u001b[0;32m      5\u001b[0m texts \u001b[38;5;241m=\u001b[39m data_words \n",
      "\u001b[1;31mNameError\u001b[0m: name 'data_words' is not defined"
     ]
    }
   ],
   "source": [
    "# Create Dictionary \n",
    "id2word = corpora.Dictionary(data_words)\n",
    "\n",
    "# Create Corpus , a copy or you can say \n",
    "texts = data_words \n",
    "\n",
    "# TERM Document Frequency\n",
    "corpus = [id2word.doc2bow(text) for text in texts]"
   ]
  },
  {
   "cell_type": "code",
   "execution_count": 5,
   "id": "51ffef42",
   "metadata": {
    "papermill": {
     "duration": 0.020463,
     "end_time": "2022-10-02T09:43:50.402472",
     "exception": false,
     "start_time": "2022-10-02T09:43:50.382009",
     "status": "completed"
    },
    "tags": []
   },
   "outputs": [
    {
     "ename": "NameError",
     "evalue": "name 'data_words' is not defined",
     "output_type": "error",
     "traceback": [
      "\u001b[1;31m---------------------------------------------------------------------------\u001b[0m",
      "\u001b[1;31mNameError\u001b[0m                                 Traceback (most recent call last)",
      "Cell \u001b[1;32mIn[5], line 3\u001b[0m\n\u001b[0;32m      1\u001b[0m \u001b[38;5;66;03m# Now see The Difference\u001b[39;00m\n\u001b[1;32m----> 3\u001b[0m \u001b[38;5;28mprint\u001b[39m(\u001b[38;5;124m\"\u001b[39m\u001b[38;5;124mNormal Data Words: \u001b[39m\u001b[38;5;124m\"\u001b[39m,\u001b[43mdata_words\u001b[49m[:\u001b[38;5;241m1\u001b[39m][\u001b[38;5;241m0\u001b[39m][:\u001b[38;5;241m5\u001b[39m])\n\u001b[0;32m      4\u001b[0m \u001b[38;5;28mprint\u001b[39m(\u001b[38;5;124m\"\u001b[39m\u001b[38;5;124mCreated Corpus : \u001b[39m\u001b[38;5;124m\"\u001b[39m,corpus[:\u001b[38;5;241m1\u001b[39m][\u001b[38;5;241m0\u001b[39m][:\u001b[38;5;241m5\u001b[39m])\n",
      "\u001b[1;31mNameError\u001b[0m: name 'data_words' is not defined"
     ]
    }
   ],
   "source": [
    "# Now see The Difference\n",
    "\n",
    "print(\"Normal Data Words: \",data_words[:1][0][:5])\n",
    "print(\"Created Corpus : \",corpus[:1][0][:5])"
   ]
  },
  {
   "cell_type": "markdown",
   "id": "2c7a3ee1",
   "metadata": {
    "papermill": {
     "duration": 0.008097,
     "end_time": "2022-10-02T09:43:50.419191",
     "exception": false,
     "start_time": "2022-10-02T09:43:50.411094",
     "status": "completed"
    },
    "tags": []
   },
   "source": [
    "### Time to Train Models"
   ]
  },
  {
   "cell_type": "code",
   "execution_count": 6,
   "id": "a76389d5",
   "metadata": {
    "papermill": {
     "duration": 1.378082,
     "end_time": "2022-10-02T09:43:51.805794",
     "exception": false,
     "start_time": "2022-10-02T09:43:50.427712",
     "status": "completed"
    },
    "tags": []
   },
   "outputs": [
    {
     "ename": "NameError",
     "evalue": "name 'corpus' is not defined",
     "output_type": "error",
     "traceback": [
      "\u001b[1;31m---------------------------------------------------------------------------\u001b[0m",
      "\u001b[1;31mNameError\u001b[0m                                 Traceback (most recent call last)",
      "Cell \u001b[1;32mIn[6], line 4\u001b[0m\n\u001b[0;32m      1\u001b[0m num_topics \u001b[38;5;241m=\u001b[39m \u001b[38;5;241m10\u001b[39m \u001b[38;5;66;03m#Just Assuming\u001b[39;00m\n\u001b[1;32m----> 4\u001b[0m lda_model  \u001b[38;5;241m=\u001b[39m LdaMulticore(corpus\u001b[38;5;241m=\u001b[39m\u001b[43mcorpus\u001b[49m,\n\u001b[0;32m      5\u001b[0m                                        id2word\u001b[38;5;241m=\u001b[39mid2word,\n\u001b[0;32m      6\u001b[0m                                        num_topics\u001b[38;5;241m=\u001b[39mnum_topics)\n",
      "\u001b[1;31mNameError\u001b[0m: name 'corpus' is not defined"
     ]
    }
   ],
   "source": [
    "num_topics = 10 #Just Assuming\n",
    "\n",
    "\n",
    "lda_model  = LdaMulticore(corpus=corpus,\n",
    "                                       id2word=id2word,\n",
    "                                       num_topics=num_topics)"
   ]
  },
  {
   "cell_type": "code",
   "execution_count": 7,
   "id": "e20567eb",
   "metadata": {
    "papermill": {
     "duration": 0.023973,
     "end_time": "2022-10-02T09:43:51.840424",
     "exception": false,
     "start_time": "2022-10-02T09:43:51.816451",
     "status": "completed"
    },
    "tags": []
   },
   "outputs": [
    {
     "ename": "NameError",
     "evalue": "name 'lda_model' is not defined",
     "output_type": "error",
     "traceback": [
      "\u001b[1;31m---------------------------------------------------------------------------\u001b[0m",
      "\u001b[1;31mNameError\u001b[0m                                 Traceback (most recent call last)",
      "Cell \u001b[1;32mIn[7], line 1\u001b[0m\n\u001b[1;32m----> 1\u001b[0m pprint(\u001b[43mlda_model\u001b[49m\u001b[38;5;241m.\u001b[39mprint_topics())\n",
      "\u001b[1;31mNameError\u001b[0m: name 'lda_model' is not defined"
     ]
    }
   ],
   "source": [
    "pprint(lda_model.print_topics())"
   ]
  },
  {
   "cell_type": "code",
   "execution_count": 8,
   "id": "48a40ce2",
   "metadata": {
    "papermill": {
     "duration": 0.01797,
     "end_time": "2022-10-02T09:43:51.868867",
     "exception": false,
     "start_time": "2022-10-02T09:43:51.850897",
     "status": "completed"
    },
    "tags": []
   },
   "outputs": [
    {
     "ename": "NameError",
     "evalue": "name 'lda_model' is not defined",
     "output_type": "error",
     "traceback": [
      "\u001b[1;31m---------------------------------------------------------------------------\u001b[0m",
      "\u001b[1;31mNameError\u001b[0m                                 Traceback (most recent call last)",
      "Cell \u001b[1;32mIn[8], line 1\u001b[0m\n\u001b[1;32m----> 1\u001b[0m doc_lda \u001b[38;5;241m=\u001b[39m \u001b[43mlda_model\u001b[49m[corpus]\n",
      "\u001b[1;31mNameError\u001b[0m: name 'lda_model' is not defined"
     ]
    }
   ],
   "source": [
    "doc_lda = lda_model[corpus]"
   ]
  },
  {
   "cell_type": "markdown",
   "id": "d8d64b15",
   "metadata": {
    "papermill": {
     "duration": 0.008724,
     "end_time": "2022-10-02T09:43:51.886677",
     "exception": false,
     "start_time": "2022-10-02T09:43:51.877953",
     "status": "completed"
    },
    "tags": []
   },
   "source": [
    "### I KNOW THIS  IS STILL CONFUSING ! LETS VISUALISE IT with 'pyLDAvis'"
   ]
  },
  {
   "cell_type": "code",
   "execution_count": 9,
   "id": "bd1b7c7f",
   "metadata": {
    "papermill": {
     "duration": 0.017299,
     "end_time": "2022-10-02T09:43:51.912673",
     "exception": false,
     "start_time": "2022-10-02T09:43:51.895374",
     "status": "completed"
    },
    "tags": []
   },
   "outputs": [],
   "source": [
    "pyLDAvis.enable_notebook()"
   ]
  },
  {
   "cell_type": "code",
   "execution_count": 10,
   "id": "01bc9838",
   "metadata": {
    "papermill": {
     "duration": 0.017345,
     "end_time": "2022-10-02T09:43:51.938539",
     "exception": false,
     "start_time": "2022-10-02T09:43:51.921194",
     "status": "completed"
    },
    "tags": []
   },
   "outputs": [],
   "source": [
    "ldavis_file_path = os.path.join(\"/kaggle/working/ldavis_prepared_\"+str(num_topics))"
   ]
  },
  {
   "cell_type": "code",
   "execution_count": 11,
   "id": "4139fb63",
   "metadata": {
    "papermill": {
     "duration": 2.365447,
     "end_time": "2022-10-02T09:43:54.312445",
     "exception": false,
     "start_time": "2022-10-02T09:43:51.946998",
     "status": "completed"
    },
    "tags": []
   },
   "outputs": [
    {
     "ename": "NameError",
     "evalue": "name 'lda_model' is not defined",
     "output_type": "error",
     "traceback": [
      "\u001b[1;31m---------------------------------------------------------------------------\u001b[0m",
      "\u001b[1;31mNameError\u001b[0m                                 Traceback (most recent call last)",
      "Cell \u001b[1;32mIn[11], line 2\u001b[0m\n\u001b[0;32m      1\u001b[0m \u001b[38;5;28;01mif\u001b[39;00m \u001b[38;5;241m1\u001b[39m\u001b[38;5;241m==\u001b[39m\u001b[38;5;241m1\u001b[39m: \u001b[38;5;66;03m# Just to make statement True , !\u001b[39;00m\n\u001b[1;32m----> 2\u001b[0m     ldavis_prepared \u001b[38;5;241m=\u001b[39m  pyLDAvis\u001b[38;5;241m.\u001b[39mgensim\u001b[38;5;241m.\u001b[39mprepare(\u001b[43mlda_model\u001b[49m,corpus,id2word)\n\u001b[0;32m      4\u001b[0m     \u001b[38;5;28;01mwith\u001b[39;00m \u001b[38;5;28mopen\u001b[39m(ldavis_file_path,\u001b[38;5;124m\"\u001b[39m\u001b[38;5;124mwb\u001b[39m\u001b[38;5;124m\"\u001b[39m) \u001b[38;5;28;01mas\u001b[39;00m f:\n\u001b[0;32m      5\u001b[0m         pickle\u001b[38;5;241m.\u001b[39mdump(ldavis_prepared,f)\n",
      "\u001b[1;31mNameError\u001b[0m: name 'lda_model' is not defined"
     ]
    }
   ],
   "source": [
    "if 1==1: # Just to make statement True , !\n",
    "    ldavis_prepared =  pyLDAvis.gensim.prepare(lda_model,corpus,id2word)\n",
    "    \n",
    "    with open(ldavis_file_path,\"wb\") as f:\n",
    "        pickle.dump(ldavis_prepared,f)"
   ]
  },
  {
   "cell_type": "code",
   "execution_count": 12,
   "id": "415e6571",
   "metadata": {
    "papermill": {
     "duration": 0.018963,
     "end_time": "2022-10-02T09:43:54.339710",
     "exception": false,
     "start_time": "2022-10-02T09:43:54.320747",
     "status": "completed"
    },
    "tags": []
   },
   "outputs": [
    {
     "ename": "FileNotFoundError",
     "evalue": "[Errno 2] No such file or directory: '/kaggle/working/ldavis_prepared_10'",
     "output_type": "error",
     "traceback": [
      "\u001b[1;31m---------------------------------------------------------------------------\u001b[0m",
      "\u001b[1;31mFileNotFoundError\u001b[0m                         Traceback (most recent call last)",
      "Cell \u001b[1;32mIn[12], line 1\u001b[0m\n\u001b[1;32m----> 1\u001b[0m \u001b[38;5;28;01mwith\u001b[39;00m \u001b[38;5;28;43mopen\u001b[39;49m\u001b[43m(\u001b[49m\u001b[43mldavis_file_path\u001b[49m\u001b[43m,\u001b[49m\u001b[38;5;124;43m\"\u001b[39;49m\u001b[38;5;124;43mrb\u001b[39;49m\u001b[38;5;124;43m\"\u001b[39;49m\u001b[43m)\u001b[49m \u001b[38;5;28;01mas\u001b[39;00m f:\n\u001b[0;32m      2\u001b[0m     ldavis_prepared \u001b[38;5;241m=\u001b[39m pickle\u001b[38;5;241m.\u001b[39mload(f)\n",
      "File \u001b[1;32m~\\AppData\\Local\\Programs\\Python\\Python310\\lib\\site-packages\\IPython\\core\\interactiveshell.py:282\u001b[0m, in \u001b[0;36m_modified_open\u001b[1;34m(file, *args, **kwargs)\u001b[0m\n\u001b[0;32m    275\u001b[0m \u001b[38;5;28;01mif\u001b[39;00m file \u001b[38;5;129;01min\u001b[39;00m {\u001b[38;5;241m0\u001b[39m, \u001b[38;5;241m1\u001b[39m, \u001b[38;5;241m2\u001b[39m}:\n\u001b[0;32m    276\u001b[0m     \u001b[38;5;28;01mraise\u001b[39;00m \u001b[38;5;167;01mValueError\u001b[39;00m(\n\u001b[0;32m    277\u001b[0m         \u001b[38;5;124mf\u001b[39m\u001b[38;5;124m\"\u001b[39m\u001b[38;5;124mIPython won\u001b[39m\u001b[38;5;124m'\u001b[39m\u001b[38;5;124mt let you open fd=\u001b[39m\u001b[38;5;132;01m{\u001b[39;00mfile\u001b[38;5;132;01m}\u001b[39;00m\u001b[38;5;124m by default \u001b[39m\u001b[38;5;124m\"\u001b[39m\n\u001b[0;32m    278\u001b[0m         \u001b[38;5;124m\"\u001b[39m\u001b[38;5;124mas it is likely to crash IPython. If you know what you are doing, \u001b[39m\u001b[38;5;124m\"\u001b[39m\n\u001b[0;32m    279\u001b[0m         \u001b[38;5;124m\"\u001b[39m\u001b[38;5;124myou can use builtins\u001b[39m\u001b[38;5;124m'\u001b[39m\u001b[38;5;124m open.\u001b[39m\u001b[38;5;124m\"\u001b[39m\n\u001b[0;32m    280\u001b[0m     )\n\u001b[1;32m--> 282\u001b[0m \u001b[38;5;28;01mreturn\u001b[39;00m io_open(file, \u001b[38;5;241m*\u001b[39margs, \u001b[38;5;241m*\u001b[39m\u001b[38;5;241m*\u001b[39mkwargs)\n",
      "\u001b[1;31mFileNotFoundError\u001b[0m: [Errno 2] No such file or directory: '/kaggle/working/ldavis_prepared_10'"
     ]
    }
   ],
   "source": [
    "with open(ldavis_file_path,\"rb\") as f:\n",
    "    ldavis_prepared = pickle.load(f)\n",
    "    \n"
   ]
  },
  {
   "cell_type": "code",
   "execution_count": 13,
   "id": "f2039d9c",
   "metadata": {
    "papermill": {
     "duration": 0.026071,
     "end_time": "2022-10-02T09:43:54.374076",
     "exception": false,
     "start_time": "2022-10-02T09:43:54.348005",
     "status": "completed"
    },
    "tags": []
   },
   "outputs": [
    {
     "ename": "NameError",
     "evalue": "name 'ldavis_prepared' is not defined",
     "output_type": "error",
     "traceback": [
      "\u001b[1;31m---------------------------------------------------------------------------\u001b[0m",
      "\u001b[1;31mNameError\u001b[0m                                 Traceback (most recent call last)",
      "Cell \u001b[1;32mIn[13], line 1\u001b[0m\n\u001b[1;32m----> 1\u001b[0m pyLDAvis\u001b[38;5;241m.\u001b[39msave_html(\u001b[43mldavis_prepared\u001b[49m, \u001b[38;5;124m'\u001b[39m\u001b[38;5;124m/kaggle/working/ldavis_prepared_\u001b[39m\u001b[38;5;124m'\u001b[39m\u001b[38;5;241m+\u001b[39m \u001b[38;5;28mstr\u001b[39m(num_topics) \u001b[38;5;241m+\u001b[39m\u001b[38;5;124m'\u001b[39m\u001b[38;5;124m.html\u001b[39m\u001b[38;5;124m'\u001b[39m)\n",
      "\u001b[1;31mNameError\u001b[0m: name 'ldavis_prepared' is not defined"
     ]
    }
   ],
   "source": [
    "pyLDAvis.save_html(ldavis_prepared, '/kaggle/working/ldavis_prepared_'+ str(num_topics) +'.html')"
   ]
  },
  {
   "cell_type": "code",
   "execution_count": 14,
   "id": "93daf3a8",
   "metadata": {
    "papermill": {
     "duration": 0.040762,
     "end_time": "2022-10-02T09:43:54.423145",
     "exception": false,
     "start_time": "2022-10-02T09:43:54.382383",
     "status": "completed"
    },
    "tags": []
   },
   "outputs": [
    {
     "ename": "NameError",
     "evalue": "name 'ldavis_prepared' is not defined",
     "output_type": "error",
     "traceback": [
      "\u001b[1;31m---------------------------------------------------------------------------\u001b[0m",
      "\u001b[1;31mNameError\u001b[0m                                 Traceback (most recent call last)",
      "Cell \u001b[1;32mIn[14], line 1\u001b[0m\n\u001b[1;32m----> 1\u001b[0m \u001b[43mldavis_prepared\u001b[49m\n",
      "\u001b[1;31mNameError\u001b[0m: name 'ldavis_prepared' is not defined"
     ]
    }
   ],
   "source": [
    "ldavis_prepared"
   ]
  },
  {
   "cell_type": "markdown",
   "id": "9e957297",
   "metadata": {
    "papermill": {
     "duration": 0.010038,
     "end_time": "2022-10-02T09:43:54.443257",
     "exception": false,
     "start_time": "2022-10-02T09:43:54.433219",
     "status": "completed"
    },
    "tags": []
   },
   "source": [
    "### If you find anything non-understandable Just Comment me !\n",
    "### Thanks"
   ]
  },
  {
   "cell_type": "code",
   "execution_count": null,
   "id": "5537b089",
   "metadata": {
    "papermill": {
     "duration": 0.010011,
     "end_time": "2022-10-02T09:43:54.463739",
     "exception": false,
     "start_time": "2022-10-02T09:43:54.453728",
     "status": "completed"
    },
    "tags": []
   },
   "outputs": [],
   "source": []
  },
  {
   "cell_type": "code",
   "execution_count": null,
   "id": "aab786a7-aadd-4da8-babe-2d0a1a37e096",
   "metadata": {},
   "outputs": [],
   "source": []
  }
 ],
 "metadata": {
  "kernelspec": {
   "display_name": "Python 3 (ipykernel)",
   "language": "python",
   "name": "python3"
  },
  "language_info": {
   "codemirror_mode": {
    "name": "ipython",
    "version": 3
   },
   "file_extension": ".py",
   "mimetype": "text/x-python",
   "name": "python",
   "nbconvert_exporter": "python",
   "pygments_lexer": "ipython3",
   "version": "3.10.8"
  },
  "papermill": {
   "default_parameters": {},
   "duration": 25.321076,
   "end_time": "2022-10-02T09:43:57.095204",
   "environment_variables": {},
   "exception": null,
   "input_path": "__notebook__.ipynb",
   "output_path": "__notebook__.ipynb",
   "parameters": {},
   "start_time": "2022-10-02T09:43:31.774128",
   "version": "2.3.4"
  }
 },
 "nbformat": 4,
 "nbformat_minor": 5
}
